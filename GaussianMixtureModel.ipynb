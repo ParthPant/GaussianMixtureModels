{
 "cells": [
  {
   "cell_type": "code",
   "execution_count": 14,
   "metadata": {},
   "outputs": [],
   "source": [
    "from sklearn.datasets import make_blobs\n",
    "from sklearn.datasets import make_spd_matrix\n",
    "from scipy.stats import multivariate_normal\n",
    "from tqdm import tqdm\n",
    "import matplotlib.pyplot as plt\n",
    "from matplotlib import cm\n",
    "import seaborn as sb\n",
    "import pandas as pd\n",
    "import numpy as np\n",
    "%matplotlib inline"
   ]
  },
  {
   "cell_type": "code",
   "execution_count": 2,
   "metadata": {
    "scrolled": true
   },
   "outputs": [
    {
     "name": "stdout",
     "output_type": "stream",
     "text": [
      "             x         y  label\n",
      "0   -10.591336  2.954169      1\n",
      "1   -10.267583  3.020490      1\n",
      "2    -2.775672 -2.596648      0\n",
      "3    -6.720597  2.414252      1\n",
      "4    -9.334606  4.203291      1\n",
      "..         ...       ...    ...\n",
      "495  -4.675654 -1.721793      0\n",
      "496   5.363080 -2.549228      2\n",
      "497  -8.115307  2.349058      1\n",
      "498  -4.345564 -0.611652      0\n",
      "499  -3.637960 -1.812289      0\n",
      "\n",
      "[500 rows x 3 columns]\n"
     ]
    }
   ],
   "source": [
    "num_features = 2\n",
    "num_classes = 3\n",
    "num_samples = 500\n",
    "X,y = make_blobs(n_samples = num_samples,n_features = num_features,centers = num_classes)\n",
    "data = pd.DataFrame(dict(x = X[:,0], y= X[:,1],label = y))\n",
    "print(data)"
   ]
  },
  {
   "cell_type": "code",
   "execution_count": 3,
   "metadata": {},
   "outputs": [
    {
     "data": {
      "text/plain": [
       "<matplotlib.legend.Legend at 0x240bc20fcc8>"
      ]
     },
     "execution_count": 3,
     "metadata": {},
     "output_type": "execute_result"
    },
    {
     "data": {
      "image/png": "[encoded data removed]",
      "text/plain": [
       "<Figure size 432x288 with 1 Axes>"
      ]
     },
     "metadata": {
      "needs_background": "light"
     },
     "output_type": "display_data"
    }
   ],
   "source": [
    "colors = ['r','b','g']\n",
    "fig, ax = plt.subplots()\n",
    "for key,group in data.groupby('label'):\n",
    "    ax.scatter(group.x,group.y,c = colors[key],label = key,s=5)\n",
    "ax.legend()"
   ]
  },
  {
   "cell_type": "code",
   "execution_count": 11,
   "metadata": {},
   "outputs": [],
   "source": [
    "phi = np.ones([num_classes,1])/num_classes\n",
    "iterations = 50\n",
    "means = np.random.randint(np.min(X),np.max(X),[num_classes,num_features])\n",
    "w = np.zeros([num_samples,num_classes])"
   ]
  },
  {
   "cell_type": "code",
   "execution_count": 5,
   "metadata": {},
   "outputs": [],
   "source": [
    "cov = []\n",
    "for i in range(num_classes):\n",
    "  cov.append(make_spd_matrix(X.shape[1]))\n",
    "cov = np.array(cov)"
   ]
  },
  {
   "cell_type": "code",
   "execution_count": 6,
   "metadata": {},
   "outputs": [],
   "source": [
    "def findSum(i):\n",
    "    s = 0\n",
    "    for j in range(num_classes):\n",
    "        s += (multivariate_normal(mean = means[j],cov = cov[j]).pdf(X[i])*phi[j])\n",
    "    return s"
   ]
  },
  {
   "cell_type": "code",
   "execution_count": 7,
   "metadata": {},
   "outputs": [],
   "source": [
    "def findMean(j):\n",
    "    output = np.sum(w[:,j,None]*X,axis = 0)\n",
    "    output /= np.sum(w[:,j])\n",
    "    return output"
   ]
  },
  {
   "cell_type": "code",
   "execution_count": 8,
   "metadata": {},
   "outputs": [],
   "source": [
    "def findSigma(j):\n",
    "    output = np.sum(np.einsum('ijk,ijk->ikj',(X-means[2])[:,None],np.transpose((X-means[2])[:,None],(0,2,1)))*w[:,j,None,None],axis=0)\n",
    "    output /= np.sum(w[:,j])\n",
    "    return output"
   ]
  },
  {
   "cell_type": "code",
   "execution_count": 12,
   "metadata": {},
   "outputs": [
    {
     "name": "stderr",
     "output_type": "stream",
     "text": [
      "100%|██████████████████████████████████████████████████████████████████████████████████| 50/50 [00:41<00:00,  1.22it/s]\n"
     ]
    }
   ],
   "source": [
    "for i in tqdm(range(iterations)):\n",
    "    #E-step\n",
    "    for i in range(num_samples):\n",
    "        for j in range(num_classes):\n",
    "            n = multivariate_normal.pdf(x=X[i],mean = means[j], cov = cov[j])\n",
    "            p = phi[j]\n",
    "            w[i,j] = n*p /findSum(i)\n",
    "    \n",
    "    #M-step\n",
    "    phi = (np.sum(w,axis = 0)/num_samples).reshape(w.shape[1],1)\n",
    "    for j in range(num_classes):\n",
    "        means[j] = findMean(j)\n",
    "        cov[j] = findSigma(j)"
   ]
  },
  {
   "cell_type": "code",
   "execution_count": 59,
   "metadata": {},
   "outputs": [
    {
     "data": {
      "text/plain": [
       "<matplotlib.contour.QuadContourSet at 0x240cb37f8c8>"
      ]
     },
     "execution_count": 59,
     "metadata": {},
     "output_type": "execute_result"
    },
    {
     "data": {
      "image/png": "[encoded data removed]",
      "text/plain": [
       "<Figure size 432x288 with 1 Axes>"
      ]
     },
     "metadata": {
      "needs_background": "light"
     },
     "output_type": "display_data"
    }
   ],
   "source": [
    "k=1\n",
    "x, y = np.mgrid[np.min(X[:,0]):np.max(X[:,0]):0.1,np.min(X[:,1]):np.max(X[:,1]):0.1]\n",
    "pos = np.dstack((x, y))\n",
    "rv = multivariate_normal(means[k], cov[k])\n",
    "fig2 = plt.figure()\n",
    "ax2 = fig2.add_subplot(111)\n",
    "ax2.contourf(x, y, rv.pdf(pos))"
   ]
  }
 ],
 "metadata": {
  "kernelspec": {
   "display_name": "Python 3",
   "language": "python",
   "name": "python3"
  },
  "language_info": {
   "codemirror_mode": {
    "name": "ipython",
    "version": 3
   },
   "file_extension": ".py",
   "mimetype": "text/x-python",
   "name": "python",
   "nbconvert_exporter": "python",
   "pygments_lexer": "ipython3",
   "version": "3.7.6"
  }
 },
 "nbformat": 4,
 "nbformat_minor": 4
}
